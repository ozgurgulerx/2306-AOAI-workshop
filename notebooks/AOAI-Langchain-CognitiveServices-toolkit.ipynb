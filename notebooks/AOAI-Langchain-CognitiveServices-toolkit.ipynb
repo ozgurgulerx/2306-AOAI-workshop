{
 "cells": [
  {
   "cell_type": "code",
   "execution_count": null,
   "metadata": {},
   "outputs": [],
   "source": [
    "#Below content is copied from the Valentino Alto's content https://medium.com/microsoftazure/introducing-langchain-toolkits-for-azure-cognitive-services-42207ea1add7\n",
    "#Azure Cognitive Services toolkit will extend LLMs with multimodal capabilities.\n"
   ]
  }
 ],
 "metadata": {
  "language_info": {
   "name": "python"
  },
  "orig_nbformat": 4
 },
 "nbformat": 4,
 "nbformat_minor": 2
}
