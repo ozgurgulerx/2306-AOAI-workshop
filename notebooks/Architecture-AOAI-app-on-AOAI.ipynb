{
 "cells": [
  {
   "cell_type": "markdown",
   "metadata": {},
   "source": [
    "# Run your AOAI app as an Azure Function App \n",
    "\n",
    "In this workshop you will deploy a simple app submitting a prompt to your AOAI endpoints.\n",
    "You will \n",
    "-  create your dev environment \n",
    "- create your Azure Function App\n",
    "- test your app locally \n",
    "- deploy your app to Azure Function App\n",
    "- test your production deployment"
   ]
  },
  {
   "cell_type": "code",
   "execution_count": null,
   "metadata": {
    "vscode": {
     "languageId": "shellscript"
    }
   },
   "outputs": [],
   "source": [
    "az login --use-device-code\n",
    "#will give you a device code. Go to microsoft.com/devicelogin from \n",
    "#any other browser and put in the device-code to log in. \n",
    "\n",
    "\n",
    "#Create and activate a virtual environment \n",
    "sudo apt-get install python3-venv\n",
    "python -m venv .venv2\n",
    "source .venv2/bin/activate\n",
    "\n",
    "#upgrade python to 3.9\n",
    "sudo apt-get update\n",
    "sudo apt-get upgrade\n",
    "sudo apt-get install -y build-essential zlib1g-dev libncurses5-dev libgdbm-dev libnss3-dev libssl-dev libsqlite3-dev libreadline-dev libffi-dev curl libbz2-dev\n",
    "\n",
    "cd /opt\n",
    "sudo wget https://www.python.org/ftp/python/3.9.0/Python-3.9.0.tgz\n",
    "sudo tar -xvf Python-3.9.0.tgz\n",
    "cd Python-3.9.0\n",
    "sudo ./configure --enable-optimizations\n",
    "sudo make altinstall\n",
    "\n",
    "python3.9 --version\n",
    "\n",
    "#Create a new venv with Python3.9\n",
    "python3.9 -m venv my-afa\n",
    "source my-afa/bin/activate\n",
    "sudo npm install -g azure-functions-core-tools@4 --unsafe-perm true\n",
    "npm install -g npm@9.8.0\n"
   ]
  },
  {
   "cell_type": "markdown",
   "metadata": {},
   "source": [
    "### Locally develop & test your Azure Function app"
   ]
  },
  {
   "cell_type": "code",
   "execution_count": null,
   "metadata": {
    "vscode": {
     "languageId": "shellscript"
    }
   },
   "outputs": [],
   "source": [
    "#Create a local project\n",
    "func init aoai-app-02 --python -m V2 \n",
    "cd aoai-app-02\n",
    "\n",
    "#ssh into the machine (add NSG permit ssh lines to VM VNET on Azure portal)\n",
    "#launch VS Code leveraging VSCore remote connection plugin\n",
    "code .\n",
    "\n",
    "#edit requirements.txt and add openai \n",
    "#edit function_app.py and add the below...\n",
    "\n",
    "#Create your AOAI app \n",
    "\n",
    "source my-afa/bin/activate\n",
    "sudo apt install python3-pip\n",
    "pip3 install -r requirements.txt"
   ]
  },
  {
   "cell_type": "markdown",
   "metadata": {},
   "source": [
    "### Write your function app \n",
    "Add the below code to function_app.py"
   ]
  },
  {
   "cell_type": "code",
   "execution_count": null,
   "metadata": {},
   "outputs": [],
   "source": [
    "import azure.functions as func\n",
    "import openai \n",
    "\n",
    "app = func.FunctionApp()\n",
    "\n",
    "@app.function_name(name=\"HttpTrigger1\")\n",
    "@app.route(route=\"hello\")\n",
    "def test_function(req: func.HttpRequest) -> func.HttpResponse:\n",
    "    \n",
    "    openai.api_type=\"azure\"\n",
    "    openai.api_version=\"2023-05-15\"\n",
    "\n",
    "    OPENAI_API_BASE = \"XXX\"\n",
    "    OPENAI_API_KEY = \"XXX\"\n",
    "\n",
    "    openai.api_base = OPENAI_API_BASE\n",
    "    openai.api_key = OPENAI_API_KEY\n",
    "    \n",
    "    prompt = req.params.get('prompt')\n",
    "    \n",
    "    if not prompt:\n",
    "        return func.HttpResponse(\n",
    "            \"Please provide a prompt.\",\n",
    "            status_code=400\n",
    "        )        \n",
    "    completions = openai.ChatCompletion.create(\n",
    "        engine=\"gpt-35-turbo\",\n",
    "        messages=[\n",
    "            {\"role\": \"user\", \"content\": prompt}\n",
    "        ]\n",
    "    )\n",
    "    message = completions.choices[0].message.content.strip()\n",
    "    return func.HttpResponse(message)"
   ]
  },
  {
   "cell_type": "markdown",
   "metadata": {},
   "source": [
    "### Test Locally "
   ]
  },
  {
   "cell_type": "code",
   "execution_count": null,
   "metadata": {
    "vscode": {
     "languageId": "shellscript"
    }
   },
   "outputs": [],
   "source": [
    "#install upgrade node/npm\n",
    "sudo apt install npm\n",
    "sudo npm cache clean -f\n",
    "sudo npm install -g n\n",
    "sudo n stable\n",
    "node -v \n",
    "npm -v \n",
    "\n",
    "\n",
    "#install \n",
    "sudo npm install -g azurite\n",
    "azureit \n",
    "\n",
    "#on another terminal and from within aoai-app-02 directory \n",
    "func start \n",
    "\n",
    "#test yet on another terminal with...\n",
    "curl http://localhost:7071/api/hello?prompt=explain%20quantum%20physics"
   ]
  },
  {
   "cell_type": "markdown",
   "metadata": {},
   "source": [
    "### Setup Azure resources required to deploy the Azure Function App"
   ]
  },
  {
   "cell_type": "code",
   "execution_count": null,
   "metadata": {
    "vscode": {
     "languageId": "shellscript"
    }
   },
   "outputs": [],
   "source": [
    "z login --use-device-code\n",
    "\n",
    "#create resource-group \n",
    "az group create --name rg-openai --location westeurope\n",
    "\n",
    "#create a storage account \n",
    "az storage account create --name saopenaiozguler --location westeurope --resource-group rg-openai --sku Standard_LRS\n",
    "\n",
    "#create the function app in Azure\n",
    "#Go to aoai-app-01 folder and run the below within the folder...\n",
    "sudo apt-get upgrade azure-cli\n",
    "az functionapp create --resource-group rg-openai --consumption-plan-location westeurope --runtime python --runtime-version 3.9 --functions-version 4 --name aoai-app-01 --os-type linux --storage-account saopenaiozguler2"
   ]
  },
  {
   "cell_type": "markdown",
   "metadata": {},
   "source": [
    "### Deploy your app"
   ]
  },
  {
   "cell_type": "code",
   "execution_count": null,
   "metadata": {
    "vscode": {
     "languageId": "shellscript"
    }
   },
   "outputs": [],
   "source": [
    "#Create your function container\n",
    "az functionapp create --resource-group rg-test-app-xxx  --consumption-plan-location eastus --runtime python --runtime-version 3.9 --functions-version 4 --name test-app-xxx --os-type linux --storage-account storageappxxxozguler\n",
    "\n",
    "#Deploy your app \n",
    "func azure functionapp publish aoai-app-02 \n",
    "\n",
    "#For observability add the following...\n",
    "func azure functionapp logstream aoai-app-02 --browser"
   ]
  },
  {
   "cell_type": "markdown",
   "metadata": {},
   "source": [
    "(If the “function create” command fails above -it kept failing for me, possibly a CLI bug - you can create the functionapp through VSCode Function App plugin or via Azure Portal and skip the function app create CLI step above and move to the functionapp publish step. Although I used the CLI command MS Learn documentation, I got “ — functions-version 4” after wasting enough time troubleshooting this I moved and simply created the function on Azure portal. Below is the error message I got…)"
   ]
  },
  {
   "cell_type": "markdown",
   "metadata": {},
   "source": [
    "### Test your app "
   ]
  },
  {
   "cell_type": "markdown",
   "metadata": {},
   "source": [
    "To test your Azure Function app with Postman,\n",
    "Change the HTTP method to POST\n",
    "Add header “content-type” application/json\n",
    "Add x-functions-key and add your functions master key, you will find under “keys” in the portal…\n",
    "Add body raw text {}"
   ]
  }
 ],
 "metadata": {
  "language_info": {
   "name": "python"
  },
  "orig_nbformat": 4
 },
 "nbformat": 4,
 "nbformat_minor": 2
}
